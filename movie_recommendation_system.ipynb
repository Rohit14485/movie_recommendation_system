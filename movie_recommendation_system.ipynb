{
 "cells": [
  {
   "cell_type": "code",
   "execution_count": 108,
   "id": "69ff6bb9-0958-43aa-b797-363c8b392b2f",
   "metadata": {},
   "outputs": [],
   "source": [
    "import numpy as np\n",
    "import pandas as pd\n",
    "import difflib\n",
    "from sklearn.feature_extraction.text import TfidfVectorizer\n",
    "from sklearn.metrics.pairwise import cosine_similarity\n"
   ]
  },
  {
   "cell_type": "code",
   "execution_count": 109,
   "id": "39c83738-9c21-44af-a1ed-00a572ed84a0",
   "metadata": {},
   "outputs": [],
   "source": [
    "movie_data=pd.read_csv('movies.csv')"
   ]
  },
  {
   "cell_type": "code",
   "execution_count": 110,
   "id": "3d49e142-8d76-4269-881d-7cd869904c2c",
   "metadata": {},
   "outputs": [
    {
     "data": {
      "text/plain": [
       "<bound method NDFrame.head of       index     budget                                    genres  \\\n",
       "0         0  237000000  Action Adventure Fantasy Science Fiction   \n",
       "1         1  300000000                  Adventure Fantasy Action   \n",
       "2         2  245000000                    Action Adventure Crime   \n",
       "3         3  250000000               Action Crime Drama Thriller   \n",
       "4         4  260000000          Action Adventure Science Fiction   \n",
       "...     ...        ...                                       ...   \n",
       "4798   4798     220000                     Action Crime Thriller   \n",
       "4799   4799       9000                            Comedy Romance   \n",
       "4800   4800          0             Comedy Drama Romance TV Movie   \n",
       "4801   4801          0                                       NaN   \n",
       "4802   4802          0                               Documentary   \n",
       "\n",
       "                                               homepage      id  \\\n",
       "0                           http://www.avatarmovie.com/   19995   \n",
       "1          http://disney.go.com/disneypictures/pirates/     285   \n",
       "2           http://www.sonypictures.com/movies/spectre/  206647   \n",
       "3                    http://www.thedarkknightrises.com/   49026   \n",
       "4                  http://movies.disney.com/john-carter   49529   \n",
       "...                                                 ...     ...   \n",
       "4798                                                NaN    9367   \n",
       "4799                                                NaN   72766   \n",
       "4800  http://www.hallmarkchannel.com/signedsealeddel...  231617   \n",
       "4801                        http://shanghaicalling.com/  126186   \n",
       "4802                                                NaN   25975   \n",
       "\n",
       "                                               keywords original_language  \\\n",
       "0     culture clash future space war space colony so...                en   \n",
       "1     ocean drug abuse exotic island east india trad...                en   \n",
       "2            spy based on novel secret agent sequel mi6                en   \n",
       "3     dc comics crime fighter terrorist secret ident...                en   \n",
       "4     based on novel mars medallion space travel pri...                en   \n",
       "...                                                 ...               ...   \n",
       "4798  united states\\u2013mexico barrier legs arms pa...                es   \n",
       "4799                                                NaN                en   \n",
       "4800  date love at first sight narration investigati...                en   \n",
       "4801                                                NaN                en   \n",
       "4802               obsession camcorder crush dream girl                en   \n",
       "\n",
       "                                original_title  \\\n",
       "0                                       Avatar   \n",
       "1     Pirates of the Caribbean: At World's End   \n",
       "2                                      Spectre   \n",
       "3                        The Dark Knight Rises   \n",
       "4                                  John Carter   \n",
       "...                                        ...   \n",
       "4798                               El Mariachi   \n",
       "4799                                 Newlyweds   \n",
       "4800                 Signed, Sealed, Delivered   \n",
       "4801                          Shanghai Calling   \n",
       "4802                         My Date with Drew   \n",
       "\n",
       "                                               overview  popularity  ...  \\\n",
       "0     In the 22nd century, a paraplegic Marine is di...  150.437577  ...   \n",
       "1     Captain Barbossa, long believed to be dead, ha...  139.082615  ...   \n",
       "2     A cryptic message from Bond’s past sends him o...  107.376788  ...   \n",
       "3     Following the death of District Attorney Harve...  112.312950  ...   \n",
       "4     John Carter is a war-weary, former military ca...   43.926995  ...   \n",
       "...                                                 ...         ...  ...   \n",
       "4798  El Mariachi just wants to play his guitar and ...   14.269792  ...   \n",
       "4799  A newlywed couple's honeymoon is upended by th...    0.642552  ...   \n",
       "4800  \"Signed, Sealed, Delivered\" introduces a dedic...    1.444476  ...   \n",
       "4801  When ambitious New York attorney Sam is sent t...    0.857008  ...   \n",
       "4802  Ever since the second grade when he first saw ...    1.929883  ...   \n",
       "\n",
       "     runtime                                   spoken_languages    status  \\\n",
       "0      162.0  [{\"iso_639_1\": \"en\", \"name\": \"English\"}, {\"iso...  Released   \n",
       "1      169.0           [{\"iso_639_1\": \"en\", \"name\": \"English\"}]  Released   \n",
       "2      148.0  [{\"iso_639_1\": \"fr\", \"name\": \"Fran\\u00e7ais\"},...  Released   \n",
       "3      165.0           [{\"iso_639_1\": \"en\", \"name\": \"English\"}]  Released   \n",
       "4      132.0           [{\"iso_639_1\": \"en\", \"name\": \"English\"}]  Released   \n",
       "...      ...                                                ...       ...   \n",
       "4798    81.0      [{\"iso_639_1\": \"es\", \"name\": \"Espa\\u00f1ol\"}]  Released   \n",
       "4799    85.0                                                 []  Released   \n",
       "4800   120.0           [{\"iso_639_1\": \"en\", \"name\": \"English\"}]  Released   \n",
       "4801    98.0           [{\"iso_639_1\": \"en\", \"name\": \"English\"}]  Released   \n",
       "4802    90.0           [{\"iso_639_1\": \"en\", \"name\": \"English\"}]  Released   \n",
       "\n",
       "                                                tagline  \\\n",
       "0                           Enter the World of Pandora.   \n",
       "1        At the end of the world, the adventure begins.   \n",
       "2                                 A Plan No One Escapes   \n",
       "3                                       The Legend Ends   \n",
       "4                  Lost in our world, found in another.   \n",
       "...                                                 ...   \n",
       "4798  He didn't come looking for trouble, but troubl...   \n",
       "4799  A newlywed couple's honeymoon is upended by th...   \n",
       "4800                                                NaN   \n",
       "4801                           A New Yorker in Shanghai   \n",
       "4802                                                NaN   \n",
       "\n",
       "                                         title vote_average vote_count  \\\n",
       "0                                       Avatar          7.2      11800   \n",
       "1     Pirates of the Caribbean: At World's End          6.9       4500   \n",
       "2                                      Spectre          6.3       4466   \n",
       "3                        The Dark Knight Rises          7.6       9106   \n",
       "4                                  John Carter          6.1       2124   \n",
       "...                                        ...          ...        ...   \n",
       "4798                               El Mariachi          6.6        238   \n",
       "4799                                 Newlyweds          5.9          5   \n",
       "4800                 Signed, Sealed, Delivered          7.0          6   \n",
       "4801                          Shanghai Calling          5.7          7   \n",
       "4802                         My Date with Drew          6.3         16   \n",
       "\n",
       "                                                   cast  \\\n",
       "0     Sam Worthington Zoe Saldana Sigourney Weaver S...   \n",
       "1     Johnny Depp Orlando Bloom Keira Knightley Stel...   \n",
       "2     Daniel Craig Christoph Waltz L\\u00e9a Seydoux ...   \n",
       "3     Christian Bale Michael Caine Gary Oldman Anne ...   \n",
       "4     Taylor Kitsch Lynn Collins Samantha Morton Wil...   \n",
       "...                                                 ...   \n",
       "4798  Carlos Gallardo Jaime de Hoyos Peter Marquardt...   \n",
       "4799  Edward Burns Kerry Bish\\u00e9 Marsha Dietlein ...   \n",
       "4800  Eric Mabius Kristin Booth Crystal Lowe Geoff G...   \n",
       "4801  Daniel Henney Eliza Coupe Bill Paxton Alan Ruc...   \n",
       "4802  Drew Barrymore Brian Herzlinger Corey Feldman ...   \n",
       "\n",
       "                                                   crew           director  \n",
       "0     [{'name': 'Stephen E. Rivkin', 'gender': 0, 'd...      James Cameron  \n",
       "1     [{'name': 'Dariusz Wolski', 'gender': 2, 'depa...     Gore Verbinski  \n",
       "2     [{'name': 'Thomas Newman', 'gender': 2, 'depar...         Sam Mendes  \n",
       "3     [{'name': 'Hans Zimmer', 'gender': 2, 'departm...  Christopher Nolan  \n",
       "4     [{'name': 'Andrew Stanton', 'gender': 2, 'depa...     Andrew Stanton  \n",
       "...                                                 ...                ...  \n",
       "4798  [{'name': 'Robert Rodriguez', 'gender': 0, 'de...   Robert Rodriguez  \n",
       "4799  [{'name': 'Edward Burns', 'gender': 2, 'depart...       Edward Burns  \n",
       "4800  [{'name': 'Carla Hetland', 'gender': 0, 'depar...        Scott Smith  \n",
       "4801  [{'name': 'Daniel Hsia', 'gender': 2, 'departm...        Daniel Hsia  \n",
       "4802  [{'name': 'Clark Peterson', 'gender': 2, 'depa...   Brian Herzlinger  \n",
       "\n",
       "[4803 rows x 24 columns]>"
      ]
     },
     "execution_count": 110,
     "metadata": {},
     "output_type": "execute_result"
    }
   ],
   "source": [
    "movie_data.head"
   ]
  },
  {
   "cell_type": "code",
   "execution_count": 111,
   "id": "2ce167b6-e139-4303-840f-77c7831261ed",
   "metadata": {},
   "outputs": [
    {
     "name": "stdout",
     "output_type": "stream",
     "text": [
      "['genres', 'keywords', 'tagline', 'cast', 'director']\n"
     ]
    }
   ],
   "source": [
    "fea=['genres','keywords','tagline','cast','director']\n",
    "print(fea)"
   ]
  },
  {
   "cell_type": "code",
   "execution_count": 112,
   "id": "cf29a142-da97-451d-a126-e6130e239489",
   "metadata": {},
   "outputs": [
    {
     "data": {
      "text/plain": [
       "index                      0\n",
       "budget                     0\n",
       "genres                    28\n",
       "homepage                3091\n",
       "id                         0\n",
       "keywords                 412\n",
       "original_language          0\n",
       "original_title             0\n",
       "overview                   3\n",
       "popularity                 0\n",
       "production_companies       0\n",
       "production_countries       0\n",
       "release_date               1\n",
       "revenue                    0\n",
       "runtime                    2\n",
       "spoken_languages           0\n",
       "status                     0\n",
       "tagline                  844\n",
       "title                      0\n",
       "vote_average               0\n",
       "vote_count                 0\n",
       "cast                      43\n",
       "crew                       0\n",
       "director                  30\n",
       "dtype: int64"
      ]
     },
     "execution_count": 112,
     "metadata": {},
     "output_type": "execute_result"
    }
   ],
   "source": [
    "movie_data.isnull().sum()"
   ]
  },
  {
   "cell_type": "code",
   "execution_count": 113,
   "id": "7d2ce142-282c-4306-a1d8-2e051afecb00",
   "metadata": {},
   "outputs": [],
   "source": [
    "for i in fea:\n",
    "    movie_data[i]=movie_data[i].fillna('')"
   ]
  },
  {
   "cell_type": "code",
   "execution_count": 114,
   "id": "72a0930c-7ed0-42bd-8b8e-b194b5014c71",
   "metadata": {},
   "outputs": [
    {
     "data": {
      "text/plain": [
       "index                      0\n",
       "budget                     0\n",
       "genres                     0\n",
       "homepage                3091\n",
       "id                         0\n",
       "keywords                   0\n",
       "original_language          0\n",
       "original_title             0\n",
       "overview                   3\n",
       "popularity                 0\n",
       "production_companies       0\n",
       "production_countries       0\n",
       "release_date               1\n",
       "revenue                    0\n",
       "runtime                    2\n",
       "spoken_languages           0\n",
       "status                     0\n",
       "tagline                    0\n",
       "title                      0\n",
       "vote_average               0\n",
       "vote_count                 0\n",
       "cast                       0\n",
       "crew                       0\n",
       "director                   0\n",
       "dtype: int64"
      ]
     },
     "execution_count": 114,
     "metadata": {},
     "output_type": "execute_result"
    }
   ],
   "source": [
    "movie_data.isnull().sum()"
   ]
  },
  {
   "cell_type": "code",
   "execution_count": 115,
   "id": "cfc0b585-871e-442e-a8dd-616f5d9ef6b5",
   "metadata": {},
   "outputs": [],
   "source": [
    "combined=movie_data['genres']+' '+movie_data['keywords']+' '+movie_data['tagline']+' '+movie_data['cast']+' '+movie_data['director']\n"
   ]
  },
  {
   "cell_type": "code",
   "execution_count": 116,
   "id": "01dbd849-a5b2-4f83-b011-c0e8d852bc18",
   "metadata": {},
   "outputs": [
    {
     "name": "stdout",
     "output_type": "stream",
     "text": [
      "0       Action Adventure Fantasy Science Fiction cultu...\n",
      "1       Adventure Fantasy Action ocean drug abuse exot...\n",
      "2       Action Adventure Crime spy based on novel secr...\n",
      "3       Action Crime Drama Thriller dc comics crime fi...\n",
      "4       Action Adventure Science Fiction based on nove...\n",
      "                              ...                        \n",
      "4798    Action Crime Thriller united states\\u2013mexic...\n",
      "4799    Comedy Romance  A newlywed couple's honeymoon ...\n",
      "4800    Comedy Drama Romance TV Movie date love at fir...\n",
      "4801      A New Yorker in Shanghai Daniel Henney Eliza...\n",
      "4802    Documentary obsession camcorder crush dream gi...\n",
      "Length: 4803, dtype: object\n"
     ]
    }
   ],
   "source": [
    "print(combined)"
   ]
  },
  {
   "cell_type": "code",
   "execution_count": 117,
   "id": "c5ae9752-9fc0-4ee2-bd79-b9f1d4bb9e70",
   "metadata": {},
   "outputs": [],
   "source": [
    "vector=TfidfVectorizer()\n",
    "feature_data=vector.fit_transform(combined)"
   ]
  },
  {
   "cell_type": "code",
   "execution_count": 118,
   "id": "fc3051c9-35d7-4389-a7e2-c1a458570e10",
   "metadata": {},
   "outputs": [
    {
     "name": "stdout",
     "output_type": "stream",
     "text": [
      "  (0, 2432)\t0.17272411194153\n",
      "  (0, 7755)\t0.1128035714854756\n",
      "  (0, 13024)\t0.1942362060108871\n",
      "  (0, 10229)\t0.16058685400095302\n",
      "  (0, 8756)\t0.22709015857011816\n",
      "  (0, 14608)\t0.15150672398763912\n",
      "  (0, 16668)\t0.19843263965100372\n",
      "  (0, 14064)\t0.20596090415084142\n",
      "  (0, 13319)\t0.2177470539412484\n",
      "  (0, 17290)\t0.20197912553916567\n",
      "  (0, 17007)\t0.23643326319898797\n",
      "  (0, 13349)\t0.15021264094167086\n",
      "  (0, 11503)\t0.27211310056983656\n",
      "  (0, 11192)\t0.09049319826481456\n",
      "  (0, 16998)\t0.1282126322850579\n",
      "  (0, 15261)\t0.07095833561276566\n",
      "  (0, 4945)\t0.24025852494110758\n",
      "  (0, 14271)\t0.21392179219912877\n",
      "  (0, 3225)\t0.24960162956997736\n",
      "  (0, 16587)\t0.12549432354918996\n",
      "  (0, 14378)\t0.33962752210959823\n",
      "  (0, 5836)\t0.1646750903586285\n",
      "  (0, 3065)\t0.22208377802661425\n",
      "  (0, 3678)\t0.21392179219912877\n",
      "  (0, 5437)\t0.1036413987316636\n",
      "  :\t:\n",
      "  (4801, 17266)\t0.2886098184932947\n",
      "  (4801, 4835)\t0.24713765026963996\n",
      "  (4801, 403)\t0.17727585190343226\n",
      "  (4801, 6935)\t0.2886098184932947\n",
      "  (4801, 11663)\t0.21557500762727902\n",
      "  (4801, 1672)\t0.1564793427630879\n",
      "  (4801, 10929)\t0.13504166990041588\n",
      "  (4801, 7474)\t0.11307961713172225\n",
      "  (4801, 3796)\t0.3342808988877418\n",
      "  (4802, 6996)\t0.5700048226105303\n",
      "  (4802, 5367)\t0.22969114490410403\n",
      "  (4802, 3654)\t0.262512960498006\n",
      "  (4802, 2425)\t0.24002350969074696\n",
      "  (4802, 4608)\t0.24002350969074696\n",
      "  (4802, 6417)\t0.21753405888348784\n",
      "  (4802, 4371)\t0.1538239182675544\n",
      "  (4802, 12989)\t0.1696476532191718\n",
      "  (4802, 1316)\t0.1960747079005741\n",
      "  (4802, 4528)\t0.19504460807622875\n",
      "  (4802, 3436)\t0.21753405888348784\n",
      "  (4802, 6155)\t0.18056463596934083\n",
      "  (4802, 4980)\t0.16078053641367315\n",
      "  (4802, 2129)\t0.3099656128577656\n",
      "  (4802, 4518)\t0.16784466610624255\n",
      "  (4802, 11161)\t0.17867407682173203\n"
     ]
    }
   ],
   "source": [
    "print(feature_data)"
   ]
  },
  {
   "cell_type": "code",
   "execution_count": 119,
   "id": "c7a912a8-13a4-40eb-add8-d513b6e06b2b",
   "metadata": {},
   "outputs": [],
   "source": [
    "#creating a list of movie\n",
    "list_of_all_movie=movie_data['title'].tolist()"
   ]
  },
  {
   "cell_type": "code",
   "execution_count": 142,
   "id": "2b14df38-1d82-469e-acce-0bc32c5a94e7",
   "metadata": {},
   "outputs": [
    {
     "name": "stdin",
     "output_type": "stream",
     "text": [
      "enter the movie name iron man\n"
     ]
    }
   ],
   "source": [
    "movie_name=input('enter the movie name')\n"
   ]
  },
  {
   "cell_type": "code",
   "execution_count": 143,
   "id": "2a382e61-5365-4f41-a395-d8f44f6b1eda",
   "metadata": {},
   "outputs": [
    {
     "name": "stdout",
     "output_type": "stream",
     "text": [
      "['Iron Man', 'Iron Man 3', 'Iron Man 2']\n"
     ]
    }
   ],
   "source": [
    "cclose_match=difflib.get_close_matches(movie_name,list_of_all_movie)\n",
    "print(cclose_match)"
   ]
  },
  {
   "cell_type": "code",
   "execution_count": null,
   "id": "dbea0f4e-a974-4ae3-a087-5ccb9eb6962e",
   "metadata": {},
   "outputs": [],
   "source": []
  },
  {
   "cell_type": "code",
   "execution_count": 102,
   "id": "910780ee-c560-4777-a6ad-020becc87f80",
   "metadata": {},
   "outputs": [
    {
     "name": "stdout",
     "output_type": "stream",
     "text": [
      "The Avengers\n"
     ]
    }
   ],
   "source": [
    "close_match=cclose_match[0]\n",
    "print(close_match)"
   ]
  },
  {
   "cell_type": "code",
   "execution_count": 103,
   "id": "c6641263-44b7-47eb-aba7-1d37d683698a",
   "metadata": {},
   "outputs": [
    {
     "name": "stdout",
     "output_type": "stream",
     "text": [
      "[[1.         0.07219487 0.037733   ... 0.         0.         0.        ]\n",
      " [0.07219487 1.         0.03281499 ... 0.03575545 0.         0.        ]\n",
      " [0.037733   0.03281499 1.         ... 0.         0.05389661 0.        ]\n",
      " ...\n",
      " [0.         0.03575545 0.         ... 1.         0.         0.02651502]\n",
      " [0.         0.         0.05389661 ... 0.         1.         0.        ]\n",
      " [0.         0.         0.         ... 0.02651502 0.         1.        ]]\n"
     ]
    }
   ],
   "source": [
    "similarity=cosine_similarity(feature_data)\n",
    "print(similarity)"
   ]
  },
  {
   "cell_type": "code",
   "execution_count": 104,
   "id": "699f34e5-02dd-45b0-a420-e7908e194360",
   "metadata": {},
   "outputs": [
    {
     "name": "stdout",
     "output_type": "stream",
     "text": [
      "16\n"
     ]
    }
   ],
   "source": [
    "index=movie_data[movie_data.title==close_match]['index'].values[0]\n",
    "print(index)"
   ]
  },
  {
   "cell_type": "code",
   "execution_count": 105,
   "id": "3d0b47bb-dce4-4371-ae56-900c52fa0a56",
   "metadata": {},
   "outputs": [],
   "source": [
    "similarty_score=list(enumerate(similarity[index]))"
   ]
  },
  {
   "cell_type": "code",
   "execution_count": 106,
   "id": "62c56b2b-e59b-4958-97c3-cd6b1a5d2845",
   "metadata": {},
   "outputs": [],
   "source": [
    "similarty_score_movie=sorted(similarty_score,key=lambda x:x[1],reverse=True)\n"
   ]
  },
  {
   "cell_type": "code",
   "execution_count": 107,
   "id": "c7dc83bc-9a11-4a5c-bd00-69deba0c283c",
   "metadata": {},
   "outputs": [
    {
     "name": "stdout",
     "output_type": "stream",
     "text": [
      "The Avengers\n",
      "Avengers: Age of Ultron\n",
      "Captain America: Civil War\n"
     ]
    }
   ],
   "source": [
    "print(movie_data[movie_data.index==similarty_score_movie[0][0]]['title'].values[0]\n",
    ")\n",
    "print(movie_data[movie_data.index==similarty_score_movie[1][0]]['title'].values[0]\n",
    ")\n",
    "print(movie_data[movie_data.index==similarty_score_movie[3][0]]['title'].values[0]\n",
    ")\n"
   ]
  },
  {
   "cell_type": "code",
   "execution_count": null,
   "id": "cbb83f0e-a7ea-49d3-a2d1-f94b365ca3a2",
   "metadata": {},
   "outputs": [],
   "source": []
  },
  {
   "cell_type": "code",
   "execution_count": null,
   "id": "2aae8c3c-e5d8-4867-9e2e-10af819b86ab",
   "metadata": {},
   "outputs": [],
   "source": []
  },
  {
   "cell_type": "code",
   "execution_count": null,
   "id": "ff96ebb9-580b-4903-843c-dce85b639261",
   "metadata": {},
   "outputs": [],
   "source": []
  },
  {
   "cell_type": "code",
   "execution_count": null,
   "id": "51d18db9-4ba1-4ea5-b18b-823c905c7f21",
   "metadata": {},
   "outputs": [],
   "source": []
  },
  {
   "cell_type": "code",
   "execution_count": null,
   "id": "a4062a61-b774-4829-8130-b300e7015610",
   "metadata": {},
   "outputs": [],
   "source": []
  },
  {
   "cell_type": "code",
   "execution_count": null,
   "id": "3e4da05a-23f5-4f6b-bda4-a264628d85ae",
   "metadata": {},
   "outputs": [],
   "source": []
  }
 ],
 "metadata": {
  "kernelspec": {
   "display_name": "Python 3 (ipykernel)",
   "language": "python",
   "name": "python3"
  },
  "language_info": {
   "codemirror_mode": {
    "name": "ipython",
    "version": 3
   },
   "file_extension": ".py",
   "mimetype": "text/x-python",
   "name": "python",
   "nbconvert_exporter": "python",
   "pygments_lexer": "ipython3",
   "version": "3.9.13"
  }
 },
 "nbformat": 4,
 "nbformat_minor": 5
}
